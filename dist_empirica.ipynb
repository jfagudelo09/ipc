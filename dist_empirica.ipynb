{
 "cells": [
  {
   "cell_type": "code",
   "execution_count": 8,
   "metadata": {},
   "outputs": [],
   "source": [
    "import pandas as pd\n",
    "import numpy as np\n",
    "from matplotlib import pyplot as plt"
   ]
  },
  {
   "cell_type": "code",
   "execution_count": null,
   "metadata": {},
   "outputs": [],
   "source": [
    "def dist_empirica(csv,columna,delimitador=';'):\n",
    "    hist_ipc = pd.read_csv(csv,delimiter=delimitador).loc[:,columna]\n",
    "    tamano_hist = len(hist_ipc)\n",
    "    n_registros = list(range(tamano_hist))\n",
    "    imagen = np.array([])"
   ]
  },
  {
   "cell_type": "code",
   "execution_count": 9,
   "metadata": {},
   "outputs": [
    {
     "data": {
      "text/plain": [
       "0       1,95\n",
       "1       1,51\n",
       "2       1,56\n",
       "3        1,6\n",
       "4       1,61\n",
       "       ...  \n",
       "335    22,21\n",
       "336    23,08\n",
       "337    24,18\n",
       "338    24,71\n",
       "339    24,82\n",
       "Name: Inflación total 1, Length: 340, dtype: object"
      ]
     },
     "execution_count": 9,
     "metadata": {},
     "output_type": "execute_result"
    }
   ],
   "source": [
    "ipc_colombia = pd.read_csv('Historico IPC Colombia.csv', delimiter=';').loc[:,'Inflación total 1']\n",
    "\n",
    "ipc_colombia"
   ]
  }
 ],
 "metadata": {
  "kernelspec": {
   "display_name": "Python 3",
   "language": "python",
   "name": "python3"
  },
  "language_info": {
   "codemirror_mode": {
    "name": "ipython",
    "version": 3
   },
   "file_extension": ".py",
   "mimetype": "text/x-python",
   "name": "python",
   "nbconvert_exporter": "python",
   "pygments_lexer": "ipython3",
   "version": "3.7.4"
  }
 },
 "nbformat": 4,
 "nbformat_minor": 4
}
